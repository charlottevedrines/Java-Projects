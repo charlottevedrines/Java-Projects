{
  "nbformat": 4,
  "nbformat_minor": 0,
  "metadata": {
    "colab": {
      "provenance": [],
      "include_colab_link": true
    },
    "kernelspec": {
      "name": "python3",
      "display_name": "Python 3"
    },
    "language_info": {
      "name": "python"
    }
  },
  "cells": [
    {
      "cell_type": "markdown",
      "metadata": {
        "id": "view-in-github",
        "colab_type": "text"
      },
      "source": [
        "<a href=\"https://colab.research.google.com/github/charlottevedrines/Java-Projects/blob/main/Assignment_4_Questions.ipynb\" target=\"_parent\"><img src=\"https://colab.research.google.com/assets/colab-badge.svg\" alt=\"Open In Colab\"/></a>"
      ]
    },
    {
      "cell_type": "markdown",
      "source": [
        "# **ASSIGNMENT 4**"
      ],
      "metadata": {
        "id": "wDe4CwNkFiDa"
      }
    },
    {
      "cell_type": "markdown",
      "source": [
        "1) Explain the relationship between a type I error, power, degree of difference that one wishes to detect in a parameter value, and sample size. How can a type I error be reduced and the power be increased for a given difference in the parameter?"
      ],
      "metadata": {
        "id": "Q5ImnnPYFwLk"
      }
    },
    {
      "cell_type": "markdown",
      "source": [
        "A type I error (𝛼) is incorrectly rejecting a true null hypothesis whereas the power of a test (1-β) is correctly rejecting a false null hypothesis. If the tolerance for false positive is decreased, then the number of true positive will decrease also. The relationship between 𝛼 and β is therefore a tradeoff for the accuracy.\n",
        "\n",
        "To increase the power of a test, the options are to increase 𝛼, increase the sample size or increase the degree of difference we're trying to measure (if that is within our control)."
      ],
      "metadata": {
        "id": "tqi7Oj2Dkznd"
      }
    },
    {
      "cell_type": "markdown",
      "source": [
        "2) The breaking strength of a cable is known to be normally distributed with a mean of 4000 kg and a standard deviation of 25 kg. The manufacturer prefers that at least 95% of its product meet a strength requirement of 4050 kg. Is this requirement being met? If not, by changing the process parameter, what should the process mean target value be?"
      ],
      "metadata": {
        "id": "mB3lgu3HKDUs"
      }
    },
    {
      "cell_type": "code",
      "source": [
        "from scipy.stats import linregress, t, norm\n",
        "\n",
        "mean = 4000\n",
        "sd = 25\n",
        "alpha = 0.05\n",
        "\n",
        "# Ho we are meeting the target\n",
        "# Ha we are not meeting the target\n",
        "\n",
        "distribution = norm(loc=mean,scale=sd)\n",
        "\n",
        "prob = 1 - distribution.cdf(4050)\n",
        "print(prob*100, \"% of the cables meet strength requirements.\")\n",
        "if prob >= 0.95:\n",
        "  print(\"The manufacturer requirement is met.\")\n",
        "else:\n",
        "  print(\"The manufacturer requirement is not met.\")\n",
        "\n",
        "  z = norm.ppf(0.95)\n",
        "  new_mean = 4050 - z * sd\n",
        "  print(\"The process mean target value should be:\", new_mean, \"kg.\")"
      ],
      "metadata": {
        "id": "iTWwNSwl8O-x",
        "colab": {
          "base_uri": "https://localhost:8080/",
          "height": 0
        },
        "outputId": "59208782-52f2-4c71-a85d-ad75b3d18e64"
      },
      "execution_count": 7,
      "outputs": [
        {
          "output_type": "stream",
          "name": "stdout",
          "text": [
            "2.275013194817921 % of the cables meet strength requirements.\n",
            "The manufacturer requirement is not met.\n",
            "The process mean target value should be: 4008.878659326213 kg.\n"
          ]
        }
      ]
    },
    {
      "cell_type": "markdown",
      "source": [
        "3) Consider the following data of heights of male and female in a county.\n",
        "Male Heights (inches): 68, 70, 72, 66, 67, 71, 69, 73, 65, 68\n",
        "Female Heights (inches): 63, 65, 64, 66, 62, 67, 65, 68, 63, 64\n",
        "Estimate the difference in the mean heights between these two populations and determine whether this difference is statistacally significant. Use siginificance level of α=0.05.\n",
        "\n",
        "Reqd: Code for analysis and reporting, and brief summary of interpretation of results."
      ],
      "metadata": {
        "id": "m_cTMBzXNZyF"
      }
    },
    {
      "cell_type": "code",
      "source": [
        "import numpy as np\n",
        "from scipy.stats import ttest_ind\n",
        "\n",
        "male_heights = np.array([68, 70, 72, 66, 67, 71, 69, 73, 65, 68])\n",
        "female_heights = np.array([63, 65, 64, 66, 62, 67, 65, 68, 63, 64])\n",
        "\n",
        "# Ho: there is no difference in the mean heights between the male and female populations.\n",
        "t_stat, p_value = ttest_ind(male_heights, female_heights)\n",
        "\n",
        "if p_value < 0.05:\n",
        "  print(\"We reject the null hypothesis, therefore, the mean heights between these two populations is statistacally significant.\")\n",
        "else:\n",
        "  print(\"We fail to reject the null hypothesis, therefore, the mean heights between these two populations is not statistacally significant.\")\n"
      ],
      "metadata": {
        "colab": {
          "base_uri": "https://localhost:8080/"
        },
        "id": "3ynJWFBht46-",
        "outputId": "588f97eb-7001-4c62-b586-6ab80bcd8073"
      },
      "execution_count": null,
      "outputs": [
        {
          "output_type": "stream",
          "name": "stdout",
          "text": [
            "We reject the null hypothesis, therefore, the mean heights between these two populations is statistacally significant.\n"
          ]
        }
      ]
    },
    {
      "cell_type": "markdown",
      "source": [
        "4) A manufacturing process is being monitored for quality control. The process produces widgets with a target weight of 100 grams. However, the weights of the widgets vary slightly due to inherent process variability.\n",
        "\n",
        "(4.1) A technician accidentally changes a machine setting, leading to a sudden increase in widget weight. Identify whether this scenario represents an assignable cause or a common cause of variation.\n",
        "\n",
        "(4.2) Due to fluctuations in ambient temperature, the viscosity of the material used in the process varies slightly from day to day, causing minor variations in widget weight. Is this scenario an example of an assignable cause or a common cause of variation?"
      ],
      "metadata": {
        "id": "e6pgpaHaQQlF"
      }
    },
    {
      "cell_type": "markdown",
      "source": [
        "4.1 This scenario is an assignable or special cause of variability because the there is an identifiable reason that force the system to go out of control: the technician accidentally changing a machine setting."
      ],
      "metadata": {
        "id": "FUdbUUNZbQrs"
      }
    },
    {
      "cell_type": "markdown",
      "source": [
        "4.2 The sensitivity of the viscosity of the material to the ambient temperature is inherent to the system and is always present. Therefore, this scenario is an example of a common cause of variability."
      ],
      "metadata": {
        "id": "ta0WTrj6botG"
      }
    },
    {
      "cell_type": "markdown",
      "source": [
        "**Answer here**"
      ],
      "metadata": {
        "id": "zx6KmPCKT8PW"
      }
    },
    {
      "cell_type": "markdown",
      "source": [
        "5)The length of industrial ﬁlters is a quality characteristic of interest. Thirty samples, each of size 5, are chosen from the process. The data yield an average length of 110 mm, with the process standard deviation estimated to be 4 mm.\n",
        "\n",
        "(5.1) Find the warning limits for a control chart for the average length.\n",
        "\n",
        "(5.2) Find the 3σ control limits. What is the probability of a type I error?\n",
        "\n",
        "(5.3) If the process mean shifts to 112 mm, what are the chances of detecting this shift by the third sample drawn after the shift?\n",
        "\n",
        "(5.4) What is the chance of detecting the shift for the ﬁrst time on the second sample point drawn after the shift?\n",
        "\n",
        "(5.4) What is the ARL for a shift in the process mean to 112 mm? How manysamples, on average, would i t take to detect a change in the process mean to 116 mm?\n",
        "Solve this using python"
      ],
      "metadata": {
        "id": "xmi9UdAkT9zy"
      }
    },
    {
      "cell_type": "code",
      "source": [
        "import numpy as np\n",
        "import math\n",
        "from scipy.stats import linregress, t, norm\n",
        "\n",
        "# 5.1)\n",
        "WL_upper = (110 + 2)*4/np.sqrt(5)\n",
        "WL_lower = 110 - 2*4/np.sqrt(5)\n",
        "\n",
        "# 5.2)\n",
        "UCL = 110 + 3* 4/np.sqrt(5)\n",
        "LCL = 110 - 3* 4/np.sqrt(5)\n",
        "\n",
        "# For ±3σ, the probability of a Type I error is approximately 0.27% on each side of the control limits, adding up to about 0.54% overall.\n",
        "\n",
        "# 5.3)\n",
        "\n",
        "# Chances of not detecting the shift after one sample mean\n",
        "beta = norm.cdf(UCL, 112, 4/np.sqrt(5)) -  norm.cdf(LCL, 112, 4/np.sqrt(5))\n",
        "\n",
        "# Chances of detecting the shift after one sample mean\n",
        "p = 1 - beta\n",
        "\n",
        "# Chancces of detecting the shift after the third sample\n",
        "print (\"The probability of detecting the shift on the third sample is \", p**3)\n",
        "\n",
        "\n",
        "# 5.4) Geometric distribution where probability of success is the probability of detecting the sift (p)\n",
        "p_geo = p*(1- p)**(2-1)\n",
        "print(\"The chance of detecting the shift for the ﬁrst time on the second sample point drawn after the shift is \", p_geo)\n",
        "\n",
        "# 5.5)\n",
        "print(\"The ARL for a shift in the process mean to 112 mm is: \", math.ceil(1/p))\n",
        "\n",
        "beta2 = norm.cdf(UCL, 116, 4/np.sqrt(5)) -  norm.cdf(LCL, 116, 4/np.sqrt(5))\n",
        "p2 = 1 - beta2\n",
        "\n",
        "print(\"The ARL for a shift in the process mean to 116 mm is: \", math.ceil(1/p2))"
      ],
      "metadata": {
        "colab": {
          "base_uri": "https://localhost:8080/"
        },
        "id": "pXG_nxQ0fSwC",
        "outputId": "ec8b1f7c-e554-429d-dc12-8d0999cceb5a"
      },
      "execution_count": null,
      "outputs": [
        {
          "output_type": "stream",
          "name": "stdout",
          "text": [
            "The probability of detecting the shift on the third sample is  2.6836767373006303e-05\n",
            "The chance of detecting the shift for the ﬁrst time on the second sample point drawn after the shift is  0.029043052284124047\n",
            "The ARL for a shift in the process mean to 112 mm is:  34\n",
            "The ARL for a shift in the process mean to 116 mm is:  2\n"
          ]
        }
      ]
    }
  ]
}